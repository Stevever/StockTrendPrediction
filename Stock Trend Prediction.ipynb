{
 "cells": [
  {
   "cell_type": "markdown",
   "metadata": {},
   "source": [
    "# Stock Trend Prediction using Technical Indicators"
   ]
  },
  {
   "cell_type": "code",
   "execution_count": 521,
   "metadata": {},
   "outputs": [],
   "source": [
    "import pandas as pd\n",
    "import matplotlib.pyplot as plt\n",
    "from sklearn.model_selection import train_test_split\n",
    "from sklearn.ensemble import RandomForestClassifier\n",
    "from sklearn.metrics import accuracy_score\n",
    "from sklearn.metrics import f1_score"
   ]
  },
  {
   "cell_type": "markdown",
   "metadata": {},
   "source": [
    "### Data Preprocessing"
   ]
  },
  {
   "cell_type": "markdown",
   "metadata": {},
   "source": [
    "- Load in the csv data"
   ]
  },
  {
   "cell_type": "code",
   "execution_count": 522,
   "metadata": {},
   "outputs": [
    {
     "data": {
      "text/html": [
       "<div>\n",
       "<style scoped>\n",
       "    .dataframe tbody tr th:only-of-type {\n",
       "        vertical-align: middle;\n",
       "    }\n",
       "\n",
       "    .dataframe tbody tr th {\n",
       "        vertical-align: top;\n",
       "    }\n",
       "\n",
       "    .dataframe thead th {\n",
       "        text-align: right;\n",
       "    }\n",
       "</style>\n",
       "<table border=\"1\" class=\"dataframe\">\n",
       "  <thead>\n",
       "    <tr style=\"text-align: right;\">\n",
       "      <th></th>\n",
       "      <th>Open</th>\n",
       "      <th>High</th>\n",
       "      <th>Low</th>\n",
       "      <th>Adj Close</th>\n",
       "      <th>Volume</th>\n",
       "    </tr>\n",
       "  </thead>\n",
       "  <tbody>\n",
       "    <tr>\n",
       "      <th>0</th>\n",
       "      <td>0.751202</td>\n",
       "      <td>0.763722</td>\n",
       "      <td>0.743690</td>\n",
       "      <td>0.001789</td>\n",
       "      <td>2156500</td>\n",
       "    </tr>\n",
       "    <tr>\n",
       "      <th>1</th>\n",
       "      <td>0.744942</td>\n",
       "      <td>0.744942</td>\n",
       "      <td>0.738682</td>\n",
       "      <td>0.001771</td>\n",
       "      <td>1477600</td>\n",
       "    </tr>\n",
       "    <tr>\n",
       "      <th>2</th>\n",
       "      <td>0.741186</td>\n",
       "      <td>0.747446</td>\n",
       "      <td>0.726162</td>\n",
       "      <td>0.001750</td>\n",
       "      <td>1837100</td>\n",
       "    </tr>\n",
       "    <tr>\n",
       "      <th>3</th>\n",
       "      <td>0.732422</td>\n",
       "      <td>0.733674</td>\n",
       "      <td>0.701122</td>\n",
       "      <td>0.001705</td>\n",
       "      <td>2725600</td>\n",
       "    </tr>\n",
       "    <tr>\n",
       "      <th>4</th>\n",
       "      <td>0.713642</td>\n",
       "      <td>0.713642</td>\n",
       "      <td>0.691106</td>\n",
       "      <td>0.001702</td>\n",
       "      <td>3095000</td>\n",
       "    </tr>\n",
       "  </tbody>\n",
       "</table>\n",
       "</div>"
      ],
      "text/plain": [
       "       Open      High       Low  Adj Close   Volume\n",
       "0  0.751202  0.763722  0.743690   0.001789  2156500\n",
       "1  0.744942  0.744942  0.738682   0.001771  1477600\n",
       "2  0.741186  0.747446  0.726162   0.001750  1837100\n",
       "3  0.732422  0.733674  0.701122   0.001705  2725600\n",
       "4  0.713642  0.713642  0.691106   0.001702  3095000"
      ]
     },
     "execution_count": 522,
     "metadata": {},
     "output_type": "execute_result"
    }
   ],
   "source": [
    "features = pd.read_csv('data/ge.csv')\n",
    "#index_es = pd.read_csv('data/s&p500.csv')\n",
    "#index_es = index_es.iloc[-features.shape[0]:,].reset_index(drop=True)\n",
    "#index_nq = pd.read_csv('data/nasdaq.csv')\n",
    "#index_nq = index_nq.iloc[-features.shape[0]:,].reset_index(drop=True)\n",
    "#features = pd.concat([features, index_es], axis=1)\n",
    "#features = pd.concat([features, index_nq], axis=1)\n",
    "\n",
    "features.head(5)"
   ]
  },
  {
   "cell_type": "markdown",
   "metadata": {},
   "source": [
    "- Plot the stock data"
   ]
  },
  {
   "cell_type": "code",
   "execution_count": 523,
   "metadata": {},
   "outputs": [],
   "source": [
    "%matplotlib inline\n",
    "\n",
    "# Set the style\n",
    "plt.style.use('fivethirtyeight')"
   ]
  },
  {
   "cell_type": "code",
   "execution_count": 524,
   "metadata": {
    "scrolled": false
   },
   "outputs": [
    {
     "data": {
      "text/plain": [
       "[<matplotlib.lines.Line2D at 0x1ccb9508ac8>]"
      ]
     },
     "execution_count": 524,
     "metadata": {},
     "output_type": "execute_result"
    },
    {
     "data": {
      "image/png": "[encoded data removed]",
      "text/plain": [
       "<Figure size 432x288 with 1 Axes>"
      ]
     },
     "metadata": {},
     "output_type": "display_data"
    }
   ],
   "source": [
    "plt.plot(features['Adj Close'])"
   ]
  },
  {
   "cell_type": "markdown",
   "metadata": {},
   "source": [
    "- Add technical indicators as features"
   ]
  },
  {
   "cell_type": "code",
   "execution_count": 525,
   "metadata": {},
   "outputs": [],
   "source": [
    "# Simple Moving Averages\n",
    "features['SMA5'] = features['Adj Close'].rolling(window=5).mean()\n",
    "features['SMA10'] = features['Adj Close'].rolling(window=10).mean()\n",
    "features['SMA20'] = features['Adj Close'].rolling(window=20).mean()\n",
    "features['SMA50'] = features['Adj Close'].rolling(window=50).mean()\n",
    "features['SMA200'] = features['Adj Close'].rolling(window=200).mean()\n",
    "features['SMA50-200'] = features['SMA50'] - features['SMA200']"
   ]
  },
  {
   "cell_type": "code",
   "execution_count": 526,
   "metadata": {},
   "outputs": [],
   "source": [
    "# Relative Strength Index\n",
    "delta = features['Adj Close'].diff()\n",
    "dUp, dDown = delta.copy(), delta.copy()\n",
    "dUp[dUp < 0] = 0\n",
    "dDown[dDown > 0] = 0\n",
    "RolUp = dUp.rolling(window=14).mean()\n",
    "RolDown = dDown.rolling(window=14).mean().abs()\n",
    "RS = RolUp / RolDown\n",
    "features['RSI'] = 100 - 100 / (1 + RS)"
   ]
  },
  {
   "cell_type": "code",
   "execution_count": 527,
   "metadata": {},
   "outputs": [],
   "source": [
    "# Stochastic Oscillator\n",
    "L14 = features['Low'].rolling(window=14).min()\n",
    "H14 = features['High'].rolling(window=14).max()\n",
    "features['%K'] = 100 * (features['Adj Close'] - L14) / (H14 - L14)"
   ]
  },
  {
   "cell_type": "code",
   "execution_count": 528,
   "metadata": {},
   "outputs": [],
   "source": [
    "# Williams %R\n",
    "features['%R'] = (H14 - features['Adj Close']) / (H14 - L14) * (-100)"
   ]
  },
  {
   "cell_type": "code",
   "execution_count": 529,
   "metadata": {},
   "outputs": [],
   "source": [
    "# Moving Average Convergence Divergence\n",
    "ema12 = features['Adj Close'].ewm(span=12, adjust=False).mean()\n",
    "ema26 = features['Adj Close'].ewm(span=26, adjust=False).mean()\n",
    "macd = ema12 - ema26\n",
    "ema9 = macd.ewm(span=9, adjust=False).mean()\n",
    "features['MACDhist'] = macd - ema9"
   ]
  },
  {
   "cell_type": "code",
   "execution_count": 530,
   "metadata": {},
   "outputs": [],
   "source": [
    "# Price Rate of Change\n",
    "features['ROC'] = (features['Adj Close'] - features['Adj Close'].shift(12)) / features['Adj Close'].shift(12) * 100"
   ]
  },
  {
   "cell_type": "code",
   "execution_count": 531,
   "metadata": {},
   "outputs": [],
   "source": [
    "# On Balance Volume\n",
    "i = 0\n",
    "obv = [0]\n",
    "while i < features.index[-1]:\n",
    "    diff = features.loc[i + 1, 'Adj Close'] - features.loc[i, 'Adj Close']\n",
    "    if diff > 0:\n",
    "        obv.append(obv[i] + features.loc[i + 1, 'Volume'])\n",
    "    if diff == 0:\n",
    "        obv.append(obv[i])\n",
    "    if diff < 0:\n",
    "        obv.append(obv[i] - features.loc[i + 1, 'Volume'])\n",
    "    i += 1\n",
    "features['OBV'] = pd.Series(obv)"
   ]
  },
  {
   "cell_type": "code",
   "execution_count": 532,
   "metadata": {},
   "outputs": [],
   "source": [
    "# Trend labels\n",
    "#features['Trend'] = features['Adj Close'] < features['Adj Close'].shift(-1)\n",
    "features['Trend'] = features['Adj Close'] < features['SMA50'].shift(-50)\n",
    "features.replace(True, 1, inplace=True)\n",
    "features.replace(False, -1, inplace=True)\n",
    "features['Trend'] = features['Trend'].astype(int)"
   ]
  },
  {
   "cell_type": "code",
   "execution_count": 533,
   "metadata": {},
   "outputs": [
    {
     "data": {
      "text/html": [
       "<div>\n",
       "<style scoped>\n",
       "    .dataframe tbody tr th:only-of-type {\n",
       "        vertical-align: middle;\n",
       "    }\n",
       "\n",
       "    .dataframe tbody tr th {\n",
       "        vertical-align: top;\n",
       "    }\n",
       "\n",
       "    .dataframe thead th {\n",
       "        text-align: right;\n",
       "    }\n",
       "</style>\n",
       "<table border=\"1\" class=\"dataframe\">\n",
       "  <thead>\n",
       "    <tr style=\"text-align: right;\">\n",
       "      <th></th>\n",
       "      <th>Open</th>\n",
       "      <th>High</th>\n",
       "      <th>Low</th>\n",
       "      <th>Adj Close</th>\n",
       "      <th>Volume</th>\n",
       "      <th>SMA5</th>\n",
       "      <th>SMA10</th>\n",
       "      <th>SMA20</th>\n",
       "      <th>SMA50</th>\n",
       "      <th>SMA200</th>\n",
       "      <th>SMA50-200</th>\n",
       "      <th>RSI</th>\n",
       "      <th>%K</th>\n",
       "      <th>%R</th>\n",
       "      <th>MACDhist</th>\n",
       "      <th>ROC</th>\n",
       "      <th>OBV</th>\n",
       "      <th>Trend</th>\n",
       "    </tr>\n",
       "  </thead>\n",
       "  <tbody>\n",
       "    <tr>\n",
       "      <th>14418</th>\n",
       "      <td>9.15</td>\n",
       "      <td>9.21</td>\n",
       "      <td>8.99</td>\n",
       "      <td>9.00</td>\n",
       "      <td>68461200</td>\n",
       "      <td>9.198</td>\n",
       "      <td>9.647</td>\n",
       "      <td>9.8575</td>\n",
       "      <td>9.886081</td>\n",
       "      <td>10.258561</td>\n",
       "      <td>-0.372480</td>\n",
       "      <td>28.217822</td>\n",
       "      <td>0.775194</td>\n",
       "      <td>-99.224806</td>\n",
       "      <td>-0.137667</td>\n",
       "      <td>-9.638554</td>\n",
       "      <td>1772683300</td>\n",
       "      <td>-1</td>\n",
       "    </tr>\n",
       "    <tr>\n",
       "      <th>14419</th>\n",
       "      <td>9.01</td>\n",
       "      <td>9.05</td>\n",
       "      <td>8.79</td>\n",
       "      <td>8.98</td>\n",
       "      <td>82946700</td>\n",
       "      <td>9.096</td>\n",
       "      <td>9.535</td>\n",
       "      <td>9.7965</td>\n",
       "      <td>9.869927</td>\n",
       "      <td>10.237169</td>\n",
       "      <td>-0.367243</td>\n",
       "      <td>19.230769</td>\n",
       "      <td>12.751678</td>\n",
       "      <td>-87.248322</td>\n",
       "      <td>-0.136049</td>\n",
       "      <td>-9.201213</td>\n",
       "      <td>1689736600</td>\n",
       "      <td>-1</td>\n",
       "    </tr>\n",
       "    <tr>\n",
       "      <th>14420</th>\n",
       "      <td>9.04</td>\n",
       "      <td>9.19</td>\n",
       "      <td>8.99</td>\n",
       "      <td>9.14</td>\n",
       "      <td>60236000</td>\n",
       "      <td>9.080</td>\n",
       "      <td>9.425</td>\n",
       "      <td>9.7440</td>\n",
       "      <td>9.856588</td>\n",
       "      <td>10.217195</td>\n",
       "      <td>-0.360607</td>\n",
       "      <td>27.717391</td>\n",
       "      <td>23.489933</td>\n",
       "      <td>-76.510067</td>\n",
       "      <td>-0.117053</td>\n",
       "      <td>-8.508509</td>\n",
       "      <td>1749972600</td>\n",
       "      <td>-1</td>\n",
       "    </tr>\n",
       "    <tr>\n",
       "      <th>14421</th>\n",
       "      <td>9.16</td>\n",
       "      <td>9.18</td>\n",
       "      <td>9.06</td>\n",
       "      <td>9.12</td>\n",
       "      <td>48065100</td>\n",
       "      <td>9.072</td>\n",
       "      <td>9.327</td>\n",
       "      <td>9.6890</td>\n",
       "      <td>9.834781</td>\n",
       "      <td>10.198166</td>\n",
       "      <td>-0.363385</td>\n",
       "      <td>28.491620</td>\n",
       "      <td>22.147651</td>\n",
       "      <td>-77.852349</td>\n",
       "      <td>-0.099380</td>\n",
       "      <td>-9.702970</td>\n",
       "      <td>1701907500</td>\n",
       "      <td>-1</td>\n",
       "    </tr>\n",
       "    <tr>\n",
       "      <th>14422</th>\n",
       "      <td>9.13</td>\n",
       "      <td>9.35</td>\n",
       "      <td>9.10</td>\n",
       "      <td>9.35</td>\n",
       "      <td>51509100</td>\n",
       "      <td>9.118</td>\n",
       "      <td>9.259</td>\n",
       "      <td>9.6430</td>\n",
       "      <td>9.820648</td>\n",
       "      <td>10.181427</td>\n",
       "      <td>-0.360778</td>\n",
       "      <td>33.333333</td>\n",
       "      <td>37.583893</td>\n",
       "      <td>-62.416107</td>\n",
       "      <td>-0.067282</td>\n",
       "      <td>-8.691406</td>\n",
       "      <td>1753416600</td>\n",
       "      <td>-1</td>\n",
       "    </tr>\n",
       "    <tr>\n",
       "      <th>14423</th>\n",
       "      <td>9.25</td>\n",
       "      <td>9.35</td>\n",
       "      <td>9.18</td>\n",
       "      <td>9.32</td>\n",
       "      <td>67122500</td>\n",
       "      <td>9.182</td>\n",
       "      <td>9.190</td>\n",
       "      <td>9.6100</td>\n",
       "      <td>9.813792</td>\n",
       "      <td>10.164537</td>\n",
       "      <td>-0.350746</td>\n",
       "      <td>28.804348</td>\n",
       "      <td>35.570470</td>\n",
       "      <td>-64.429530</td>\n",
       "      <td>-0.044265</td>\n",
       "      <td>-7.722772</td>\n",
       "      <td>1686294100</td>\n",
       "      <td>-1</td>\n",
       "    </tr>\n",
       "    <tr>\n",
       "      <th>14424</th>\n",
       "      <td>9.30</td>\n",
       "      <td>9.37</td>\n",
       "      <td>9.22</td>\n",
       "      <td>9.33</td>\n",
       "      <td>40504600</td>\n",
       "      <td>9.252</td>\n",
       "      <td>9.174</td>\n",
       "      <td>9.5825</td>\n",
       "      <td>9.811937</td>\n",
       "      <td>10.147413</td>\n",
       "      <td>-0.335475</td>\n",
       "      <td>23.391813</td>\n",
       "      <td>36.241611</td>\n",
       "      <td>-63.758389</td>\n",
       "      <td>-0.025492</td>\n",
       "      <td>-6.979063</td>\n",
       "      <td>1726798700</td>\n",
       "      <td>-1</td>\n",
       "    </tr>\n",
       "    <tr>\n",
       "      <th>14425</th>\n",
       "      <td>9.31</td>\n",
       "      <td>9.35</td>\n",
       "      <td>9.21</td>\n",
       "      <td>9.32</td>\n",
       "      <td>28785100</td>\n",
       "      <td>9.288</td>\n",
       "      <td>9.184</td>\n",
       "      <td>9.5435</td>\n",
       "      <td>9.805657</td>\n",
       "      <td>10.128244</td>\n",
       "      <td>-0.322587</td>\n",
       "      <td>25.316456</td>\n",
       "      <td>39.259259</td>\n",
       "      <td>-60.740741</td>\n",
       "      <td>-0.011582</td>\n",
       "      <td>-6.893107</td>\n",
       "      <td>1698013600</td>\n",
       "      <td>-1</td>\n",
       "    </tr>\n",
       "    <tr>\n",
       "      <th>14426</th>\n",
       "      <td>9.22</td>\n",
       "      <td>9.23</td>\n",
       "      <td>8.98</td>\n",
       "      <td>9.12</td>\n",
       "      <td>62378000</td>\n",
       "      <td>9.288</td>\n",
       "      <td>9.180</td>\n",
       "      <td>9.5015</td>\n",
       "      <td>9.796337</td>\n",
       "      <td>10.107600</td>\n",
       "      <td>-0.311263</td>\n",
       "      <td>23.391813</td>\n",
       "      <td>24.444444</td>\n",
       "      <td>-75.555556</td>\n",
       "      <td>-0.013548</td>\n",
       "      <td>-3.898841</td>\n",
       "      <td>1635635600</td>\n",
       "      <td>-1</td>\n",
       "    </tr>\n",
       "    <tr>\n",
       "      <th>14427</th>\n",
       "      <td>9.12</td>\n",
       "      <td>9.59</td>\n",
       "      <td>9.11</td>\n",
       "      <td>9.57</td>\n",
       "      <td>73550600</td>\n",
       "      <td>9.332</td>\n",
       "      <td>9.225</td>\n",
       "      <td>9.4855</td>\n",
       "      <td>9.788525</td>\n",
       "      <td>10.088162</td>\n",
       "      <td>-0.299637</td>\n",
       "      <td>39.719626</td>\n",
       "      <td>97.500000</td>\n",
       "      <td>-2.500000</td>\n",
       "      <td>0.016150</td>\n",
       "      <td>3.796095</td>\n",
       "      <td>1709186200</td>\n",
       "      <td>-1</td>\n",
       "    </tr>\n",
       "  </tbody>\n",
       "</table>\n",
       "</div>"
      ],
      "text/plain": [
       "       Open  High   Low  Adj Close    Volume   SMA5  SMA10   SMA20     SMA50  \\\n",
       "14418  9.15  9.21  8.99       9.00  68461200  9.198  9.647  9.8575  9.886081   \n",
       "14419  9.01  9.05  8.79       8.98  82946700  9.096  9.535  9.7965  9.869927   \n",
       "14420  9.04  9.19  8.99       9.14  60236000  9.080  9.425  9.7440  9.856588   \n",
       "14421  9.16  9.18  9.06       9.12  48065100  9.072  9.327  9.6890  9.834781   \n",
       "14422  9.13  9.35  9.10       9.35  51509100  9.118  9.259  9.6430  9.820648   \n",
       "14423  9.25  9.35  9.18       9.32  67122500  9.182  9.190  9.6100  9.813792   \n",
       "14424  9.30  9.37  9.22       9.33  40504600  9.252  9.174  9.5825  9.811937   \n",
       "14425  9.31  9.35  9.21       9.32  28785100  9.288  9.184  9.5435  9.805657   \n",
       "14426  9.22  9.23  8.98       9.12  62378000  9.288  9.180  9.5015  9.796337   \n",
       "14427  9.12  9.59  9.11       9.57  73550600  9.332  9.225  9.4855  9.788525   \n",
       "\n",
       "          SMA200  SMA50-200        RSI         %K         %R  MACDhist  \\\n",
       "14418  10.258561  -0.372480  28.217822   0.775194 -99.224806 -0.137667   \n",
       "14419  10.237169  -0.367243  19.230769  12.751678 -87.248322 -0.136049   \n",
       "14420  10.217195  -0.360607  27.717391  23.489933 -76.510067 -0.117053   \n",
       "14421  10.198166  -0.363385  28.491620  22.147651 -77.852349 -0.099380   \n",
       "14422  10.181427  -0.360778  33.333333  37.583893 -62.416107 -0.067282   \n",
       "14423  10.164537  -0.350746  28.804348  35.570470 -64.429530 -0.044265   \n",
       "14424  10.147413  -0.335475  23.391813  36.241611 -63.758389 -0.025492   \n",
       "14425  10.128244  -0.322587  25.316456  39.259259 -60.740741 -0.011582   \n",
       "14426  10.107600  -0.311263  23.391813  24.444444 -75.555556 -0.013548   \n",
       "14427  10.088162  -0.299637  39.719626  97.500000  -2.500000  0.016150   \n",
       "\n",
       "            ROC         OBV  Trend  \n",
       "14418 -9.638554  1772683300     -1  \n",
       "14419 -9.201213  1689736600     -1  \n",
       "14420 -8.508509  1749972600     -1  \n",
       "14421 -9.702970  1701907500     -1  \n",
       "14422 -8.691406  1753416600     -1  \n",
       "14423 -7.722772  1686294100     -1  \n",
       "14424 -6.979063  1726798700     -1  \n",
       "14425 -6.893107  1698013600     -1  \n",
       "14426 -3.898841  1635635600     -1  \n",
       "14427  3.796095  1709186200     -1  "
      ]
     },
     "execution_count": 533,
     "metadata": {},
     "output_type": "execute_result"
    }
   ],
   "source": [
    "# Drop the first 199 datapoints where some features are NaN\n",
    "features = features.iloc[199:,]\n",
    "features.tail(10)"
   ]
  },
  {
   "cell_type": "code",
   "execution_count": 534,
   "metadata": {},
   "outputs": [
    {
     "data": {
      "text/plain": [
       "(14229, 18)"
      ]
     },
     "execution_count": 534,
     "metadata": {},
     "output_type": "execute_result"
    }
   ],
   "source": [
    "features.shape"
   ]
  },
  {
   "cell_type": "code",
   "execution_count": 535,
   "metadata": {},
   "outputs": [
    {
     "name": "stdout",
     "output_type": "stream",
     "text": [
      "Training Features Shape: (11383, 17)\n",
      "Training Labels Shape: (11383,)\n",
      "Testing Features Shape: (2846, 17)\n",
      "Testing Labels Shape: (2846,)\n"
     ]
    }
   ],
   "source": [
    "# Split features and labels\n",
    "labels = features['Trend']\n",
    "features = features.drop('Trend', axis=1)\n",
    "\n",
    "# Split training and testing sets\n",
    "train_features, test_features, train_labels, test_labels = train_test_split(features, labels, test_size=0.2)\n",
    "\n",
    "print('Training Features Shape:', train_features.shape)\n",
    "print('Training Labels Shape:', train_labels.shape)\n",
    "print('Testing Features Shape:', test_features.shape)\n",
    "print('Testing Labels Shape:', test_labels.shape)"
   ]
  },
  {
   "cell_type": "markdown",
   "metadata": {},
   "source": [
    "### Train Model"
   ]
  },
  {
   "cell_type": "code",
   "execution_count": 536,
   "metadata": {},
   "outputs": [
    {
     "data": {
      "text/plain": [
       "RandomForestClassifier(bootstrap=True, class_weight=None, criterion='gini',\n",
       "            max_depth=None, max_features='auto', max_leaf_nodes=None,\n",
       "            min_impurity_decrease=0.0, min_impurity_split=None,\n",
       "            min_samples_leaf=1, min_samples_split=2,\n",
       "            min_weight_fraction_leaf=0.0, n_estimators=1000, n_jobs=None,\n",
       "            oob_score=False, random_state=None, verbose=0,\n",
       "            warm_start=False)"
      ]
     },
     "execution_count": 536,
     "metadata": {},
     "output_type": "execute_result"
    }
   ],
   "source": [
    "# Instantiate model with 1000 decision trees\n",
    "rf = RandomForestClassifier(n_estimators=1000)\n",
    "\n",
    "# Train the model on training data\n",
    "rf.fit(train_features, train_labels)"
   ]
  },
  {
   "cell_type": "markdown",
   "metadata": {},
   "source": [
    "### Make Predictions on the Test Set"
   ]
  },
  {
   "cell_type": "code",
   "execution_count": 537,
   "metadata": {},
   "outputs": [
    {
     "name": "stdout",
     "output_type": "stream",
     "text": [
      "Accuracy: 0.9571328179901616\n",
      "F1: 0.9649223691776884\n"
     ]
    }
   ],
   "source": [
    "# Use the forest's predict method on the test data\n",
    "predictions = rf.predict(test_features)\n",
    "\n",
    "# Calculate accuracy and F1 score\n",
    "accuracy = accuracy_score(test_labels, predictions)\n",
    "f1 = f1_score(test_labels, predictions)\n",
    "print('Accuracy:', accuracy)\n",
    "print('F1:', f1)"
   ]
  },
  {
   "cell_type": "code",
   "execution_count": 538,
   "metadata": {},
   "outputs": [
    {
     "data": {
      "text/plain": [
       "array([-1, -1,  1,  1,  1,  1,  1,  1,  1,  1,  1, -1,  1,  1, -1, -1, -1,\n",
       "        1, -1,  1, -1,  1, -1, -1, -1,  1, -1,  1, -1, -1,  1,  1, -1, -1,\n",
       "        1, -1, -1, -1, -1,  1, -1,  1, -1,  1,  1, -1,  1, -1,  1, -1])"
      ]
     },
     "execution_count": 538,
     "metadata": {},
     "output_type": "execute_result"
    }
   ],
   "source": [
    "predictions[-50:,]"
   ]
  },
  {
   "cell_type": "markdown",
   "metadata": {},
   "source": [
    "### Variable Importances"
   ]
  },
  {
   "cell_type": "code",
   "execution_count": 539,
   "metadata": {
    "scrolled": false
   },
   "outputs": [
    {
     "name": "stdout",
     "output_type": "stream",
     "text": [
      "Variable: SMA200               Importance: 0.13\n",
      "Variable: SMA50-200            Importance: 0.1\n",
      "Variable: OBV                  Importance: 0.09\n",
      "Variable: Adj Close            Importance: 0.08\n",
      "Variable: SMA50                Importance: 0.08\n",
      "Variable: SMA20                Importance: 0.07\n",
      "Variable: High                 Importance: 0.06\n",
      "Variable: Low                  Importance: 0.06\n",
      "Variable: SMA5                 Importance: 0.06\n",
      "Variable: SMA10                Importance: 0.06\n",
      "Variable: Open                 Importance: 0.05\n",
      "Variable: %K                   Importance: 0.04\n",
      "Variable: %R                   Importance: 0.04\n",
      "Variable: RSI                  Importance: 0.03\n",
      "Variable: ROC                  Importance: 0.03\n",
      "Variable: Volume               Importance: 0.02\n",
      "Variable: MACDhist             Importance: 0.02\n"
     ]
    },
    {
     "data": {
      "text/plain": [
       "[None,\n",
       " None,\n",
       " None,\n",
       " None,\n",
       " None,\n",
       " None,\n",
       " None,\n",
       " None,\n",
       " None,\n",
       " None,\n",
       " None,\n",
       " None,\n",
       " None,\n",
       " None,\n",
       " None,\n",
       " None,\n",
       " None]"
      ]
     },
     "execution_count": 539,
     "metadata": {},
     "output_type": "execute_result"
    }
   ],
   "source": [
    "# Get numerical feature importances\n",
    "importances = list(rf.feature_importances_)\n",
    "\n",
    "# List of tuples with variable and importance\n",
    "feature_list = list(features.columns)\n",
    "feature_importances = [(feature, round(importance, 2)) for feature, importance in zip(feature_list, importances)]\n",
    "\n",
    "# Sort the feature importances by most important first\n",
    "feature_importances = sorted(feature_importances, key=lambda x:x[1], reverse=True)\n",
    "\n",
    "# Print out the feature and importances\n",
    "[print('Variable: {:20} Importance: {}'.format(*pair)) for pair in feature_importances]"
   ]
  }
 ],
 "metadata": {
  "kernelspec": {
   "display_name": "Python 3",
   "language": "python",
   "name": "python3"
  },
  "language_info": {
   "codemirror_mode": {
    "name": "ipython",
    "version": 3
   },
   "file_extension": ".py",
   "mimetype": "text/x-python",
   "name": "python",
   "nbconvert_exporter": "python",
   "pygments_lexer": "ipython3",
   "version": "3.7.1"
  }
 },
 "nbformat": 4,
 "nbformat_minor": 2
}
